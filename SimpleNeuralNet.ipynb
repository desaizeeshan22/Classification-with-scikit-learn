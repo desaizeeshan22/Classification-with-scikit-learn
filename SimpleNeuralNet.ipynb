{
  "nbformat": 4,
  "nbformat_minor": 0,
  "metadata": {
    "colab": {
      "name": "SimpleNeuralNet.ipynb",
      "provenance": [],
      "authorship_tag": "ABX9TyOWTKyvWk+WxJPvr0yqROnO",
      "include_colab_link": true
    },
    "kernelspec": {
      "name": "python3",
      "display_name": "Python 3"
    }
  },
  "cells": [
    {
      "cell_type": "markdown",
      "metadata": {
        "id": "view-in-github",
        "colab_type": "text"
      },
      "source": [
        "<a href=\"https://colab.research.google.com/github/desaizeeshan22/Classification-with-scikit-learn/blob/master/SimpleNeuralNet.ipynb\" target=\"_parent\"><img src=\"https://colab.research.google.com/assets/colab-badge.svg\" alt=\"Open In Colab\"/></a>"
      ]
    },
    {
      "cell_type": "markdown",
      "metadata": {
        "id": "4Puzb4dNawyl",
        "colab_type": "text"
      },
      "source": [
        "## I loaded the tensorflow model adn th fashion mnist dataset which prexists in the tf.keras module "
      ]
    },
    {
      "cell_type": "code",
      "metadata": {
        "id": "d5bk4_SYDtFL",
        "colab_type": "code",
        "colab": {}
      },
      "source": [
        "import tensorflow as tf\n",
        "mnist=tf.keras.datasets.fashion_mnist"
      ],
      "execution_count": 2,
      "outputs": []
    },
    {
      "cell_type": "code",
      "metadata": {
        "colab_type": "code",
        "id": "y0oTNc6XbpvJ",
        "colab": {
          "base_uri": "https://localhost:8080/",
          "height": 151
        },
        "outputId": "a422e648-bcdd-4715-d3b9-43a0fd1406f6"
      },
      "source": [
        "(training_images,training_labels),(test_images,test_labels)=mnist.load_data()"
      ],
      "execution_count": null,
      "outputs": [
        {
          "output_type": "stream",
          "text": [
            "Downloading data from https://storage.googleapis.com/tensorflow/tf-keras-datasets/train-labels-idx1-ubyte.gz\n",
            "32768/29515 [=================================] - 0s 0us/step\n",
            "Downloading data from https://storage.googleapis.com/tensorflow/tf-keras-datasets/train-images-idx3-ubyte.gz\n",
            "26427392/26421880 [==============================] - 0s 0us/step\n",
            "Downloading data from https://storage.googleapis.com/tensorflow/tf-keras-datasets/t10k-labels-idx1-ubyte.gz\n",
            "8192/5148 [===============================================] - 0s 0us/step\n",
            "Downloading data from https://storage.googleapis.com/tensorflow/tf-keras-datasets/t10k-images-idx3-ubyte.gz\n",
            "4423680/4422102 [==============================] - 0s 0us/step\n"
          ],
          "name": "stdout"
        }
      ]
    },
    {
      "cell_type": "markdown",
      "metadata": {
        "id": "Klq9C4TlbOhY",
        "colab_type": "text"
      },
      "source": [
        "Splitting the observations into training and test datasets"
      ]
    },
    {
      "cell_type": "code",
      "metadata": {
        "colab_type": "code",
        "id": "FPc9d3gJ3jWF",
        "colab": {
          "base_uri": "https://localhost:8080/",
          "height": 752
        },
        "outputId": "0ba7421a-7709-4ccb-a396-d7e81d264a3d"
      },
      "source": [
        "import numpy as np\n",
        "np.set_printoptions(linewidth=200)\n",
        "import matplotlib.pyplot as plt\n",
        "plt.imshow(training_images[100])\n",
        "print(training_labels[100])\n",
        "print(training_images[100])"
      ],
      "execution_count": 5,
      "outputs": [
        {
          "output_type": "stream",
          "text": [
            "8\n",
            "[[  0   0   0   0   0   0   0   0   0   1   0   0  18 107 119 103   9   0   0   0   0   0   0   0   0   0   0   0]\n",
            " [  0   0   0   0   0   0   0   0   0   0   0  99 155 113  61 118 173 117   0   0   3   0   0   0   0   0   0   0]\n",
            " [  0   0   0   0   0   0   0   0   1   0 110 136   0   0   0   0   0 167 159   0   0   2   0   0   0   0   0   0]\n",
            " [  0   0   0   0   0   1   0   6   0  72 147   0   0   5   0   2   0   0 174 118   0   5   0   0   0   0   0   0]\n",
            " [  0   0   0   0   0   1   5   0   0 174   4   0   4   0   0   0   0   0   0 204  44   0   4   0   0   0   0   0]\n",
            " [  0   0   0   0   0   0   8   0 125 128   0   9   0   0   0   0   0   2   0 107 152   0   6   0   0   0   0   0]\n",
            " [  0   0   0   0   0   0   0   0 184   9   0   4   0   0   0   0   0   2   0   0 190   0   0   2   0   0   0   0]\n",
            " [  0   0   0   1   0   2   0  73 158   0   0   0   0   1   0   0   0   0   4   0 157  79   0   3   1   0   0   0]\n",
            " [  0   0   2   5   1   0   0 157  98   0   2   0   0   1   0   0   0   0   5   0 121 145   0   0   0   0   0   0]\n",
            " [  0   0   0   0   0   0   0 231  84   0   2   1   1   0   0   0   0   0   1   0  92 223  16   0   7   4   1   0]\n",
            " [  0   0   0   0   0   0  38 183  81   0   0   0   2   2   1   2   1   0   1   0 120 226  57   0   0   0   0   0]\n",
            " [  0   0 173 216 193 213 183 164 167  98  16   0   0   0   0   0   0   0   0   0 107 141 111  91  90 108  50   0]\n",
            " [  0   0 185 221 217 210 202 222 200 206 202 204 109  27  12  17  61 136 180 221 202 225 208 214 223 240 162   0]\n",
            " [  0   0 183 220 205 200 193 184 189 182 173 194 215 216 205 207 207 195 185 194 194 203 212 183 193 211 153   0]\n",
            " [  0   0 190 233 203 206 214 216 195 183 176 159 175 189 202 195 186 186 182 186 195 209 235 203 202 215 136   0]\n",
            " [  0   0 180 228 201 202 188 183 178 192 186 181 181 177 204 217 175 179 184 176 166 169 175 185 152 203 107   0]\n",
            " [  0   0 167 235 200 207 207 209 207 203 198 189 182 178 186 189 178 192 197 195 192 185 184 205 187 255  61   0]\n",
            " [  0   0 152 250 208 214 209 202 200 202 205 204 200 192 198 204 195 205 206 198 199 203 214 207 179 249  55   0]\n",
            " [  0   0 126 255 211 215 210 206 203 203 203 206 204 199 206 207 200 206 201 199 202 208 215 195 174 211  15   0]\n",
            " [  0   0 107 255 212 211 210 211 208 206 206 207 208 208 217 214 205 206 204 208 211 211 220 197 182 225   0   0]\n",
            " [  0   0  63 232 211 216 212 214 212 212 214 212 211 212 223 219 210 214 213 212 211 209 217 208 168 190   0   0]\n",
            " [  0   0  14 255 218 221 215 218 218 217 215 213 211 215 228 220 216 222 217 217 216 218 212 213 189 143   0   0]\n",
            " [  0   0   0 230 227 214 217 218 216 217 217 214 216 222 226 218 218 220 219 218 217 218 217 215 216 113   0   0]\n",
            " [  0   0   0 177 233 216 223 222 213 213 215 212 220 226 221 220 221 218 222 220 220 221 217 212 219  52   0   0]\n",
            " [  0   0   0  10 223 222 220 211 213 215 220 222 226 226 221 223 222 222 221 218 220 219 220 223 174   0   0   0]\n",
            " [  0   0   0   0 126 241 208 210 214 214 216 216 220 220 214 213 212 212 210 215 217 218 215 236  42   0   1   0]\n",
            " [  0   0   0   0   0 188 237 230 233 255 255 255 255 255 255 255 255 255 255 255 231 229 239 161   0   0   0   0]\n",
            " [  0   0   0   0   0   0  63  95 108 105 100 103 104 105 102 100  98  97  96  90  80  83  60   0   0   0   0   0]]\n"
          ],
          "name": "stdout"
        },
        {
          "output_type": "display_data",
          "data": {
            "image/png": "[encoded data removed]",
            "text/plain": [
              "<Figure size 432x288 with 1 Axes>"
            ]
          },
          "metadata": {
            "tags": [],
            "needs_background": "light"
          }
        }
      ]
    },
    {
      "cell_type": "code",
      "metadata": {
        "colab_type": "code",
        "id": "kRH19pWs6ZDn",
        "colab": {}
      },
      "source": [
        "training_images  = training_images / 255.0\n",
        "test_images = test_images / 255.0"
      ],
      "execution_count": 6,
      "outputs": []
    },
    {
      "cell_type": "code",
      "metadata": {
        "id": "O2ep-BB2YOAs",
        "colab_type": "code",
        "colab": {}
      },
      "source": [
        "model=tf.keras.Sequential([tf.keras.layers.Flatten(),\n",
        "                           tf.keras.layers.Dense(128,activation=tf.nn.relu),\n",
        "                           tf.keras.layers.Dense(10,activation=tf.nn.softmax)])"
      ],
      "execution_count": 10,
      "outputs": []
    },
    {
      "cell_type": "code",
      "metadata": {
        "id": "0eRvNC7BZ5so",
        "colab_type": "code",
        "colab": {
          "base_uri": "https://localhost:8080/",
          "height": 370
        },
        "outputId": "1da14213-1a3a-4a72-8d09-884814a09b48"
      },
      "source": [
        "model.compile(optimizer=\"Adam\",loss=\"sparse_categorical_crossentropy\",metrics=['accuracy'])\n",
        "model.fit(training_images,training_labels,epochs=10)"
      ],
      "execution_count": 11,
      "outputs": [
        {
          "output_type": "stream",
          "text": [
            "Epoch 1/10\n",
            "1875/1875 [==============================] - 4s 2ms/step - loss: 0.5009 - accuracy: 0.8243\n",
            "Epoch 2/10\n",
            "1875/1875 [==============================] - 4s 2ms/step - loss: 0.3785 - accuracy: 0.8640\n",
            "Epoch 3/10\n",
            "1875/1875 [==============================] - 4s 2ms/step - loss: 0.3376 - accuracy: 0.8755\n",
            "Epoch 4/10\n",
            "1875/1875 [==============================] - 4s 2ms/step - loss: 0.3146 - accuracy: 0.8846\n",
            "Epoch 5/10\n",
            "1875/1875 [==============================] - 4s 2ms/step - loss: 0.2962 - accuracy: 0.8911\n",
            "Epoch 6/10\n",
            "1875/1875 [==============================] - 4s 2ms/step - loss: 0.2801 - accuracy: 0.8963\n",
            "Epoch 7/10\n",
            "1875/1875 [==============================] - 4s 2ms/step - loss: 0.2688 - accuracy: 0.9005\n",
            "Epoch 8/10\n",
            "1875/1875 [==============================] - 4s 2ms/step - loss: 0.2576 - accuracy: 0.9034\n",
            "Epoch 9/10\n",
            "1875/1875 [==============================] - 4s 2ms/step - loss: 0.2509 - accuracy: 0.9068\n",
            "Epoch 10/10\n",
            "1875/1875 [==============================] - 4s 2ms/step - loss: 0.2407 - accuracy: 0.9090\n"
          ],
          "name": "stdout"
        },
        {
          "output_type": "execute_result",
          "data": {
            "text/plain": [
              "<tensorflow.python.keras.callbacks.History at 0x7f231dcfba20>"
            ]
          },
          "metadata": {
            "tags": []
          },
          "execution_count": 11
        }
      ]
    },
    {
      "cell_type": "code",
      "metadata": {
        "id": "4IM2HSv_ahf2",
        "colab_type": "code",
        "colab": {
          "base_uri": "https://localhost:8080/",
          "height": 50
        },
        "outputId": "39505362-5ada-4d6e-d49a-dcac3a58c5fd"
      },
      "source": [
        "model.evaluate(test_images,test_labels)"
      ],
      "execution_count": 17,
      "outputs": [
        {
          "output_type": "stream",
          "text": [
            "313/313 [==============================] - 0s 1ms/step - loss: 0.3351 - accuracy: 0.8813\n"
          ],
          "name": "stdout"
        },
        {
          "output_type": "execute_result",
          "data": {
            "text/plain": [
              "[0.3350523114204407, 0.8812999725341797]"
            ]
          },
          "metadata": {
            "tags": []
          },
          "execution_count": 17
        }
      ]
    },
    {
      "cell_type": "code",
      "metadata": {
        "id": "PnbgTNwZcDXg",
        "colab_type": "code",
        "colab": {}
      },
      "source": [
        ""
      ],
      "execution_count": null,
      "outputs": []
    }
  ]
}